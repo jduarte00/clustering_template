{
 "cells": [
  {
   "cell_type": "code",
   "execution_count": 16,
   "id": "438d9793-db5a-4dc0-866c-19348837cb88",
   "metadata": {},
   "outputs": [],
   "source": [
    "import numpy as np\n",
    "import matplotlib.pyplot as plt\n",
    "import pandas as pd\n",
    "\n",
    "from sklearn import cluster, datasets, mixture\n",
    "from sklearn.neighbors import kneighbors_graph\n",
    "from sklearn.preprocessing import StandardScaler\n",
    "from itertools import cycle, islice"
   ]
  },
  {
   "cell_type": "markdown",
   "id": "f8994226-5b36-498e-b986-8a9a32bebf28",
   "metadata": {},
   "source": [
    "# Loading the data"
   ]
  },
  {
   "cell_type": "code",
   "execution_count": 23,
   "id": "b8d98589-7362-4347-a285-27f09e41d2a1",
   "metadata": {},
   "outputs": [],
   "source": [
    "n_samples = 1500\n",
    "random_state = 170\n",
    "X, y = datasets.make_blobs(n_samples=n_samples, random_state=random_state)\n",
    "transformation = [[0.6, -0.6], [-0.4, 0.8]]\n",
    "X_aniso = np.dot(X, transformation)\n",
    "aniso = (X_aniso, y)\n",
    "aniso = pd.DataFrame({'x': X_aniso[:,0], 'y':X_aniso[:,1]})"
   ]
  },
  {
   "cell_type": "markdown",
   "id": "3fcb9f4a-f810-43fa-a5b7-efa5c165179e",
   "metadata": {},
   "source": [
    "splitting in test and train (if any)"
   ]
  },
  {
   "cell_type": "markdown",
   "id": "8689e625-1c3a-4a74-ae46-22d29cc60cd0",
   "metadata": {},
   "source": [
    "# Descriptivess for the data"
   ]
  },
  {
   "cell_type": "markdown",
   "id": "788cc7e5-2b6c-49c0-bece-74b23400cab5",
   "metadata": {},
   "source": [
    "Split categorical data from numeric data"
   ]
  },
  {
   "cell_type": "code",
   "execution_count": 29,
   "id": "ea34cc9c-b177-4d18-8984-916aaacc6099",
   "metadata": {},
   "outputs": [],
   "source": [
    "var_num = aniso.select_dtypes(include='number').columns.tolist()\n",
    "var_cat = aniso.select_dtypes(exclude='number').columns.tolist()"
   ]
  },
  {
   "cell_type": "code",
   "execution_count": 31,
   "id": "ef919b3f-7b13-4e9b-a5c3-5b2e21958724",
   "metadata": {},
   "outputs": [
    {
     "data": {
      "text/plain": [
       "['x', 'y']"
      ]
     },
     "execution_count": 31,
     "metadata": {},
     "output_type": "execute_result"
    }
   ],
   "source": [
    "var_num"
   ]
  },
  {
   "cell_type": "markdown",
   "id": "87585c34-bd53-4160-b26a-c79ceddbd355",
   "metadata": {},
   "source": [
    "Computing descriptive statistics (pay attention to important differences in the std magnitud from different categories)"
   ]
  },
  {
   "cell_type": "code",
   "execution_count": 35,
   "id": "e1b9b66f-0a9b-45a3-b5e8-78548d7cccea",
   "metadata": {},
   "outputs": [
    {
     "data": {
      "text/html": [
       "<div>\n",
       "<style scoped>\n",
       "    .dataframe tbody tr th:only-of-type {\n",
       "        vertical-align: middle;\n",
       "    }\n",
       "\n",
       "    .dataframe tbody tr th {\n",
       "        vertical-align: top;\n",
       "    }\n",
       "\n",
       "    .dataframe thead th {\n",
       "        text-align: right;\n",
       "    }\n",
       "</style>\n",
       "<table border=\"1\" class=\"dataframe\">\n",
       "  <thead>\n",
       "    <tr style=\"text-align: right;\">\n",
       "      <th></th>\n",
       "      <th>x</th>\n",
       "      <th>y</th>\n",
       "    </tr>\n",
       "  </thead>\n",
       "  <tbody>\n",
       "    <tr>\n",
       "      <th>count</th>\n",
       "      <td>1500.000000</td>\n",
       "      <td>1500.000000</td>\n",
       "    </tr>\n",
       "    <tr>\n",
       "      <th>mean</th>\n",
       "      <td>-1.644129</td>\n",
       "      <td>0.971352</td>\n",
       "    </tr>\n",
       "    <tr>\n",
       "      <th>std</th>\n",
       "      <td>1.997657</td>\n",
       "      <td>1.755514</td>\n",
       "    </tr>\n",
       "    <tr>\n",
       "      <th>min</th>\n",
       "      <td>-5.700802</td>\n",
       "      <td>-4.877328</td>\n",
       "    </tr>\n",
       "    <tr>\n",
       "      <th>25%</th>\n",
       "      <td>-3.198494</td>\n",
       "      <td>-0.416230</td>\n",
       "    </tr>\n",
       "    <tr>\n",
       "      <th>50%</th>\n",
       "      <td>-2.432647</td>\n",
       "      <td>0.938830</td>\n",
       "    </tr>\n",
       "    <tr>\n",
       "      <th>75%</th>\n",
       "      <td>0.507914</td>\n",
       "      <td>2.343163</td>\n",
       "    </tr>\n",
       "    <tr>\n",
       "      <th>max</th>\n",
       "      <td>4.141694</td>\n",
       "      <td>5.720367</td>\n",
       "    </tr>\n",
       "  </tbody>\n",
       "</table>\n",
       "</div>"
      ],
      "text/plain": [
       "                 x            y\n",
       "count  1500.000000  1500.000000\n",
       "mean     -1.644129     0.971352\n",
       "std       1.997657     1.755514\n",
       "min      -5.700802    -4.877328\n",
       "25%      -3.198494    -0.416230\n",
       "50%      -2.432647     0.938830\n",
       "75%       0.507914     2.343163\n",
       "max       4.141694     5.720367"
      ]
     },
     "execution_count": 35,
     "metadata": {},
     "output_type": "execute_result"
    }
   ],
   "source": [
    "aniso[var_num].describe()"
   ]
  },
  {
   "cell_type": "code",
   "execution_count": 37,
   "id": "23301a92-6092-464e-ae92-7432d2532e29",
   "metadata": {},
   "outputs": [],
   "source": [
    "#aniso[var_cat].describe()"
   ]
  },
  {
   "cell_type": "markdown",
   "id": "d47da50c-d158-4563-b215-15aedcb01701",
   "metadata": {},
   "source": [
    "Get the number of missing values"
   ]
  },
  {
   "cell_type": "code",
   "execution_count": 42,
   "id": "cc0e8180-6e88-4e9f-90ac-5262730f67f1",
   "metadata": {},
   "outputs": [],
   "source": [
    "aniso.iloc[100][0] = np.nan"
   ]
  },
  {
   "cell_type": "code",
   "execution_count": 43,
   "id": "27efb6fd-efb5-4092-9b9e-56e0d2e929d8",
   "metadata": {},
   "outputs": [
    {
     "data": {
      "text/plain": [
       "x    1\n",
       "dtype: int64"
      ]
     },
     "execution_count": 43,
     "metadata": {},
     "output_type": "execute_result"
    }
   ],
   "source": [
    "aniso.isnull().sum()[aniso.isnull().sum() >0]"
   ]
  },
  {
   "cell_type": "markdown",
   "id": "ab5928b3-42ba-43bb-ab05-5bf85be18f8d",
   "metadata": {},
   "source": [
    "Plot distributions of numeric values"
   ]
  },
  {
   "cell_type": "code",
   "execution_count": 47,
   "id": "1a6162b6-8a76-411b-b564-5738c2ebd412",
   "metadata": {},
   "outputs": [
    {
     "data": {
      "text/plain": [
       "(array([  1.,   1.,   3.,   9.,  17.,  59.,  99., 127., 132., 144., 164.,\n",
       "        142., 140., 132., 134., 103.,  49.,  35.,   4.,   5.]),\n",
       " array([-4.87732793, -4.34744318, -3.81755843, -3.28767368, -2.75778893,\n",
       "        -2.22790418, -1.69801943, -1.16813468, -0.63824993, -0.10836518,\n",
       "         0.42151956,  0.95140431,  1.48128906,  2.01117381,  2.54105856,\n",
       "         3.07094331,  3.60082806,  4.13071281,  4.66059756,  5.19048231,\n",
       "         5.72036706]),\n",
       " <BarContainer object of 20 artists>)"
      ]
     },
     "execution_count": 47,
     "metadata": {},
     "output_type": "execute_result"
    },
    {
     "data": {
      "image/png": "[encoded data removed]",
      "text/plain": [
       "<Figure size 432x288 with 2 Axes>"
      ]
     },
     "metadata": {
      "needs_background": "light"
     },
     "output_type": "display_data"
    }
   ],
   "source": [
    "fig, axs = plt.subplots(1, 2, sharey=True, tight_layout=True)\n",
    "\n",
    "# We can set the number of bins with the *bins* keyword argument.\n",
    "axs[0].hist(aniso['x'], bins = 20)\n",
    "axs[1].hist(aniso['y'], bins = 20)"
   ]
  },
  {
   "cell_type": "code",
   "execution_count": 48,
   "id": "34615d87-90a5-478d-bbda-83019ca149ad",
   "metadata": {},
   "outputs": [
    {
     "data": {
      "text/plain": [
       "array([[<AxesSubplot:title={'center':'x'}>,\n",
       "        <AxesSubplot:title={'center':'y'}>]], dtype=object)"
      ]
     },
     "execution_count": 48,
     "metadata": {},
     "output_type": "execute_result"
    },
    {
     "data": {
      "image/png": "[encoded data removed]",
      "text/plain": [
       "<Figure size 432x288 with 2 Axes>"
      ]
     },
     "metadata": {
      "needs_background": "light"
     },
     "output_type": "display_data"
    }
   ],
   "source": [
    "aniso.hist()"
   ]
  },
  {
   "cell_type": "markdown",
   "id": "e91f528c-3dbe-4386-8f77-f1db104600d9",
   "metadata": {},
   "source": [
    "Impute missing values using KNN imputer"
   ]
  },
  {
   "cell_type": "code",
   "execution_count": null,
   "id": "9adddc75-a415-4763-93c2-0260841ccfdf",
   "metadata": {},
   "outputs": [],
   "source": []
  },
  {
   "cell_type": "markdown",
   "id": "8e903051-279c-461b-a58c-e915c28ac2d9",
   "metadata": {},
   "source": [
    "Plotting the data"
   ]
  },
  {
   "cell_type": "code",
   "execution_count": 14,
   "id": "dd33ce01-c32c-4b42-93c6-a7bd9e0649a8",
   "metadata": {},
   "outputs": [
    {
     "data": {
      "text/plain": [
       "<matplotlib.collections.PathCollection at 0x7fed655ff7c0>"
      ]
     },
     "execution_count": 14,
     "metadata": {},
     "output_type": "execute_result"
    },
    {
     "data": {
      "image/png": "[encoded data removed]",
      "text/plain": [
       "<Figure size 432x288 with 1 Axes>"
      ]
     },
     "metadata": {
      "needs_background": "light"
     },
     "output_type": "display_data"
    }
   ],
   "source": [
    "plt.scatter(aniso[0][:, 0], aniso[0][:, 1], s=10)"
   ]
  },
  {
   "cell_type": "code",
   "execution_count": 13,
   "id": "6bfeec1a-1385-4da9-8d33-ba9a8c2c25dc",
   "metadata": {},
   "outputs": [
    {
     "data": {
      "text/plain": [
       "(array([[-3.37561542,  3.63236314],\n",
       "        [-3.61882807,  3.78627892],\n",
       "        [-3.48552993,  0.46412084],\n",
       "        ...,\n",
       "        [ 1.17962827, -1.54262502],\n",
       "        [-0.49738132,  0.78227797],\n",
       "        [ 1.13089877, -1.13033403]]),\n",
       " array([1, 1, 0, ..., 2, 2, 2]))"
      ]
     },
     "execution_count": 13,
     "metadata": {},
     "output_type": "execute_result"
    }
   ],
   "source": [
    "aniso"
   ]
  }
 ],
 "metadata": {
  "kernelspec": {
   "display_name": "Python 3 (ipykernel)",
   "language": "python",
   "name": "python3"
  },
  "language_info": {
   "codemirror_mode": {
    "name": "ipython",
    "version": 3
   },
   "file_extension": ".py",
   "mimetype": "text/x-python",
   "name": "python",
   "nbconvert_exporter": "python",
   "pygments_lexer": "ipython3",
   "version": "3.9.11"
  }
 },
 "nbformat": 4,
 "nbformat_minor": 5
}
